{
 "cells": [
  {
   "cell_type": "markdown",
   "id": "b954da0c-5823-4f48-960a-4beb7bedc7f0",
   "metadata": {},
   "source": [
    "# Исследование данных финансовой компании"
   ]
  },
  {
   "cell_type": "markdown",
   "id": "b08ecd27-5bff-4c7e-bd18-57c38130c97d",
   "metadata": {},
   "source": [
    "## Цель и задачи\n",
    "\n",
    "Цель: провести исследовательский анализ данных финансовой компании предоставляющей льготные займы стартапам для разработки бизнес-модели компании, основываясь на исторических данных.\n",
    "\n",
    "Задачи:\n",
    "\n",
    "1. Загрузить данные и познакомиться с их содержимым.\n",
    "2. Провести предобработку данных.\n",
    "3. Провести исследовательский анализ данных.\n",
    "4. Сформулировать выводы по проведенному анализу."
   ]
  },
  {
   "cell_type": "markdown",
   "id": "92d93fb9-5308-4a69-8aca-e1ee58917551",
   "metadata": {},
   "source": [
    "## Данные\n",
    "\n",
    "Для анализа были отобраны данные финансовой компании, предоставляющей льготные займы. Данные состоят из 5 датасетов:\n",
    "\n",
    "[Данные предоставлены Яндекс Практикум](https://clck.ru/3Nkist)    \n",
    "\n",
    "## Структура проекта \n",
    "\n",
    "1. Загрузка данных и знакомство с ними.\n",
    "2. Предобработка данных.\n",
    "3. Исследовательский анализ данных.\n",
    "4. Итоговые выводы."
   ]
  },
  {
   "cell_type": "markdown",
   "id": "ff1f8d66-d5fb-4aa5-b76f-2a788b4117bb",
   "metadata": {},
   "source": [
    "# Знакомство с данными: загрузка и первичная предобработка"
   ]
  },
  {
   "cell_type": "markdown",
   "id": "5f83a60d-173b-4b46-afee-b5d8d5a6c3eb",
   "metadata": {},
   "source": [
    "## Вывод общей информации"
   ]
  },
  {
   "cell_type": "markdown",
   "id": "47653303-7328-44ba-b1bf-0ba596c534d7",
   "metadata": {},
   "source": [
    "Начнем с загрузки библиотек и датасетов `rest_info.csv` и `rest_price.csv`. Для анализа данных будем использовать библиотеку pandas, а для визуализации данных библиотеки matplotlib и seaborn."
   ]
  },
  {
   "cell_type": "code",
   "execution_count": null,
   "id": "2a8f3b63-47c9-410a-86bf-9fff09fb4af1",
   "metadata": {},
   "outputs": [],
   "source": [
    "# Импортируем библиотеки\n",
    "import matplotlib.pyplot as plt\n",
    "import pandas as pd\n",
    "import seaborn as sns"
   ]
  },
  {
   "cell_type": "markdown",
   "id": "f371f38b-a80e-48ce-a3fb-ee1e78003f1e",
   "metadata": {},
   "source": [
    "Выгрузим данные датасетов в переменные и присвоим им соответсвующие названия."
   ]
  },
  {
   "cell_type": "code",
   "execution_count": null,
   "id": "bbd74a39-814d-40a5-aace-99763bcef593",
   "metadata": {},
   "outputs": [],
   "source": [
    "# Выгружаем данные в переменные\n",
    "\n",
    "companies_df = pd.read_csv(\"https://code.s3.yandex.net/datasets/company_and_rounds.csv\")\n",
    "acquisition_df = pd.read_csv(\"https://code.s3.yandex.net/datasets/acquisition.csv\")\n",
    "education_df = pd.read_csv(\"https://code.s3.yandex.net/datasets/education.csv\")\n",
    "people_df = pd.read_csv(\"https://code.s3.yandex.net/datasets/people.csv\")\n",
    "degrees_df = pd.read_csv(\"https://code.s3.yandex.net/datasets/degrees.csv\")\n",
    "fund_df = pd.read_csv(\"https://code.s3.yandex.net/datasets/fund.csv\")\n",
    "investment_df = pd.read_csv(\"https://code.s3.yandex.net/datasets/investment.csv\")"
   ]
  },
  {
   "cell_type": "markdown",
   "id": "7de1370d-c8fe-4fc9-bfe2-d47d641928dd",
   "metadata": {},
   "source": [
    "#### Датасет `companies_df`"
   ]
  },
  {
   "cell_type": "markdown",
   "id": "f5961ae5-ee17-494f-9cac-9164ac2fc186",
   "metadata": {},
   "source": [
    "Выведем первые 5 строк и общую информацию о датасете `companies_df`."
   ]
  },
  {
   "cell_type": "code",
   "execution_count": null,
   "id": "d360b843-88ec-462d-a566-49682eecb333",
   "metadata": {},
   "outputs": [],
   "source": [
    "# Выводим общую информацию о `companies_df`.\n",
    "companies_df.head()"
   ]
  },
  {
   "cell_type": "code",
   "execution_count": null,
   "id": "2d18777f-0a49-47e9-889e-93435fb63281",
   "metadata": {},
   "outputs": [],
   "source": [
    "# Выводим первые строки датафрейма `companies_df`.\n",
    "companies_df.info()"
   ]
  },
  {
   "cell_type": "markdown",
   "id": "202b543a-b5ab-4a45-ad4a-167b6d3160eb",
   "metadata": {},
   "source": [
    "Датасет `companies_df` содержит 22 столбцов и 217774 строк, в которых представлена информация о компаниях и раундах финансирования.\n",
    "\n",
    "После первичного анализа можно сделать следующие выводы:\n",
    "\n",
    "* Названия столбцов стоит привести к стилю snake case для более удобной работы с ними.\n",
    "* Столбцы `category code`, `status`, `country code`, `funding round type` стоит привести к типу данных `category`, так как в них хранится категориальная информация (статус, код категории и страны). Также к типу `category` стоит привести столбцы `is first round` и `is last round`, так как они также показывают статус и могут принимать значения 1 или 0.\n",
    "* Данные в столбцах `founded at`, `closed at`, `funded at` стоит привести к типу `datetime`, так как данные в этих столбцах представляют собой даты, но на данный момент представлены в формате `object`.\n",
    "* Датасет содержит множество пропусков во многих столбцах, что говорит о неполноте данных.\n",
    "* Судя по первичному знакомству с данными, они соотвествуют своему описанию."
   ]
  },
  {
   "cell_type": "markdown",
   "id": "af5f369e-40f8-45c1-8c5b-9f409164140b",
   "metadata": {},
   "source": [
    "#### Датасет `acquisition_df`"
   ]
  },
  {
   "cell_type": "markdown",
   "id": "2be0bcee-5e80-4728-aafe-2ef3baf9a68f",
   "metadata": {},
   "source": [
    "Познакомимся с датасетом `acquisition_df`.\n",
    "\n",
    "Выведем первые 5 строк и общую информацию о датасете `acquisition_df`."
   ]
  },
  {
   "cell_type": "code",
   "execution_count": null,
   "id": "35f1670d-7d58-4946-9852-6e4a9a14cf2e",
   "metadata": {},
   "outputs": [],
   "source": [
    "# Выводим общую информацию о  `acquisition_df`.\n",
    "acquisition_df.head()"
   ]
  },
  {
   "cell_type": "code",
   "execution_count": null,
   "id": "8972002f-1284-40e8-92a0-7d0c91526dd4",
   "metadata": {},
   "outputs": [],
   "source": [
    "# Выводим первые строки датафрейма `acquisition_df`.\n",
    "acquisition_df.info()"
   ]
  },
  {
   "cell_type": "markdown",
   "id": "efc98bbc-7ac9-4cf7-9417-93d196746e38",
   "metadata": {},
   "source": [
    "Датасет `acquisition_df` содержит 6 столбцов и 9407 строк, в которых представлена информация о покупках одними компаниями других компаний.\n",
    "\n",
    "После первичного анализа можно сделать следующие выводы:\n",
    "\n",
    "* Столбцы названы корректно.\n",
    "* Столбец `term_code` стоит привести к типу данных `category`, так как в нем хранится  информация о варианте расчета — это категория.\n",
    "* Столбец `acquired_at` стоит привести к типу `datetime`, так как данные в этом столбце представляют собой даты, но на данный момент представлены в формате `object`.\n",
    "* Датасет содержит пропуски в столбцах `term_code` и `acquired_at`. Вероятно, для некоторых сделок не указаны вариант расчета и/или дата сделки.\n",
    "* Судя по первичному знакомству с данными, они соотвествуют своему описанию."
   ]
  },
  {
   "cell_type": "markdown",
   "id": "0c0a322b-a3f4-4c6d-bbee-757feb5fe93d",
   "metadata": {},
   "source": [
    "#### Датасет `education_df`"
   ]
  },
  {
   "cell_type": "markdown",
   "id": "4f6564ea-4ed5-4fd2-a3de-46a92b4a2cdc",
   "metadata": {},
   "source": [
    "Далее познакомимся с датасетом `education_df`.\n",
    "\n",
    "Выведем первые 5 строк и общую информацию о датасете `education_df`."
   ]
  },
  {
   "cell_type": "code",
   "execution_count": null,
   "id": "f9c9f658-cb5d-400b-97e2-dee4f1e80218",
   "metadata": {},
   "outputs": [],
   "source": [
    "# Выводим общую информацию о  `education_df`.\n",
    "education_df.head()"
   ]
  },
  {
   "cell_type": "code",
   "execution_count": null,
   "id": "d60eebbd-f803-45bb-8f8a-bbd84901ab10",
   "metadata": {},
   "outputs": [],
   "source": [
    "# Выводим первые строки датафрейма `education_df`.\n",
    "education_df.info()"
   ]
  },
  {
   "cell_type": "markdown",
   "id": "c1a904db-3bcf-4b06-b61d-19578611ca20",
   "metadata": {},
   "source": [
    "Датасет `education_df` содержит 4 столбца и 109610 строк, в которых представлена информация об образовании сотрудника.\n",
    "\n",
    "После первичного анализа можно сделать следующие выводы:\n",
    "\n",
    "* Столбцы названы корректно.\n",
    "* Столбец `graduated_at` стоит привести к типу `datetime`, так как данные в этом столбце представляют собой даты, но на данный момент представлены в формате `object`. Следует также оставить только год выпуска, так как конкретная дата выпуска излишня и представлена в датасете как `01-01-1990`.\n",
    "* Датасет содержит пропуски в столбцах `instituition` и `graduated_at`. Вероятно, для некоторых сотрудников не указаны университет и/или дата выпуска.\n",
    "* Судя по первичному знакомству с данными, они соотвествуют своему описанию."
   ]
  },
  {
   "cell_type": "markdown",
   "id": "2e06ac77-c6d3-47ae-9875-0d913299371b",
   "metadata": {},
   "source": [
    "#### Датасет `people_df`"
   ]
  },
  {
   "cell_type": "markdown",
   "id": "73899193-a219-49ce-a766-c3249600551c",
   "metadata": {},
   "source": [
    "Далее познакомимся с датасетом `people_df`.\n",
    "\n",
    "Выведем первые 5 строк и общую информацию о датасете `people_df`."
   ]
  },
  {
   "cell_type": "code",
   "execution_count": null,
   "id": "4a4f332a-b2fd-4e86-a376-7a953fa932c8",
   "metadata": {},
   "outputs": [],
   "source": [
    "# Выводим общую информацию о `people_df`.\n",
    "people_df.head()"
   ]
  },
  {
   "cell_type": "code",
   "execution_count": null,
   "id": "3a378d08-78ef-4da5-9da5-9cfb34ab28d4",
   "metadata": {},
   "outputs": [],
   "source": [
    "# Выводим первые строки датафрейма `people_df`.\n",
    "people_df.info()"
   ]
  },
  {
   "cell_type": "markdown",
   "id": "794c6045-83b1-4b5a-aff9-f6f6167051bb",
   "metadata": {},
   "source": [
    "Датасет `people_df` содержит 5 столбцов и 226708 строк, в которых представлена информация о сотрудниках.\n",
    "\n",
    "После первичного анализа можно сделать следующие выводы:\n",
    "\n",
    "* Столбцы названы корректно.\n",
    "* Судя по первичному знакомству с данными, они соотвествуют своему описанию."
   ]
  },
  {
   "cell_type": "markdown",
   "id": "532fe3eb-09a9-4d56-bd0f-e9cd87d1d347",
   "metadata": {},
   "source": [
    "#### Датасет `degrees_df`"
   ]
  },
  {
   "cell_type": "markdown",
   "id": "9352fa9e-4ce6-4753-bd59-471c043f3aac",
   "metadata": {},
   "source": [
    "Далее познакомимся с датасетом `degrees_df`.\n",
    "\n",
    "Выведем первые 5 строк и общую информацию о датасете `degrees_df`."
   ]
  },
  {
   "cell_type": "code",
   "execution_count": null,
   "id": "cc6aa637-d987-4d97-8d00-7b64313c99bc",
   "metadata": {},
   "outputs": [],
   "source": [
    "# Выводим общую информацию о `degrees_df`.\n",
    "degrees_df.head()"
   ]
  },
  {
   "cell_type": "code",
   "execution_count": null,
   "id": "e65fafc3-a079-43dc-b390-e6240d9d72b5",
   "metadata": {},
   "outputs": [],
   "source": [
    "# Выводим первые строки датафрейма `degrees_df`.\n",
    "degrees_df.info()"
   ]
  },
  {
   "cell_type": "markdown",
   "id": "63b77055-b5ac-4513-b3e4-9d5bc3056d5c",
   "metadata": {},
   "source": [
    "Датасет `people_df` содержит 4 столбца и 109610 строк, в которых представлена информация о типе образования сотрудников..\n",
    "\n",
    "После первичного анализа можно сделать следующие выводы:\n",
    "\n",
    "* Столбцы названы корректно.\n",
    "* Столбец `degree_type` стоит привести к типу данных `category`, так как в нем хранится  информация о типе образования — это категория.\n",
    "* Судя по первичному знакомству с данными, они соотвествуют своему описанию."
   ]
  },
  {
   "cell_type": "markdown",
   "id": "5ed3a318-660d-4778-a8c7-f5f8a87e85f2",
   "metadata": {},
   "source": [
    "#### Датасет `fund_df`"
   ]
  },
  {
   "cell_type": "markdown",
   "id": "2f0f42cb-cc4b-4395-8ea0-57699888865a",
   "metadata": {},
   "source": [
    "Далее познакомимся с датасетом `fund_df`.\n",
    "\n",
    "Выведем первые 5 строк и общую информацию о датасете `fund_df`."
   ]
  },
  {
   "cell_type": "code",
   "execution_count": null,
   "id": "308e4d40-a5dc-4817-9a25-40977cdd74d8",
   "metadata": {},
   "outputs": [],
   "source": [
    "# Выводим общую информацию о `fund_df`.\n",
    "fund_df.head()"
   ]
  },
  {
   "cell_type": "code",
   "execution_count": null,
   "id": "ecb3bf74-db90-48a3-8183-fa12ed779e70",
   "metadata": {},
   "outputs": [],
   "source": [
    "# Выводим первые строки датафрейма `fund_df`.\n",
    "fund_df.info()"
   ]
  },
  {
   "cell_type": "markdown",
   "id": "042c4151-2644-42b8-8b4f-ce6b9f7f2f32",
   "metadata": {},
   "source": [
    "Датасет `fund_df` содержит 9 столбцов и 11652  строк, в которых представлена информация о фондах.\n",
    "\n",
    "После первичного анализа можно сделать следующие выводы:\n",
    "\n",
    "* Столбцы названы корректно.\n",
    "* Столбец `country_code` стоит привести к типу данных `category`, так как в нем хранится  информация о коде страны — это категория.\n",
    "* Судя по первичному знакомству с данными, они соотвествуют своему описанию."
   ]
  },
  {
   "cell_type": "markdown",
   "id": "21837d37-9ead-4823-876a-2b2696f38de4",
   "metadata": {},
   "source": [
    "#### Датасет `investment_df`"
   ]
  },
  {
   "cell_type": "markdown",
   "id": "f99ad1b3-fd71-45a6-a2ce-459e46de927f",
   "metadata": {},
   "source": [
    "Далее познакомимся с датасетом `investment_df`.\n",
    "\n",
    "Выведем первые 5 строк и общую информацию о датасете `investment_df`."
   ]
  },
  {
   "cell_type": "code",
   "execution_count": null,
   "id": "36ee6e85-9007-4feb-9161-057588be4f02",
   "metadata": {},
   "outputs": [],
   "source": [
    "# Выводим общую информацию о `investment_df`.\n",
    "investment_df.head()"
   ]
  },
  {
   "cell_type": "code",
   "execution_count": null,
   "id": "206b121b-d938-448c-a0a2-d76618805ccd",
   "metadata": {},
   "outputs": [],
   "source": [
    "# Выводим первые строки датафрейма `investment_df`.\n",
    "investment_df.info()"
   ]
  },
  {
   "cell_type": "markdown",
   "id": "43eb4929-de8f-4d4c-a03e-70ece1432ea4",
   "metadata": {},
   "source": [
    "Датасет `investment_df` содержит 4 столбца и 61403 строк, в которых представлена информация о раундах инвестирования.\n",
    "\n",
    "После первичного анализа можно сделать следующие выводы:\n",
    "\n",
    "* Столбцы названы корректно.\n",
    "* Судя по первичному знакомству с данными, они соотвествуют своему описанию."
   ]
  },
  {
   "cell_type": "markdown",
   "id": "fbe9646e-0959-4d6d-ae4f-63662a864e5e",
   "metadata": {},
   "source": [
    "## Исправление названия столбцов"
   ]
  },
  {
   "cell_type": "markdown",
   "id": "eba29dc8-ede0-4aa8-8546-f7873ecd64ef",
   "metadata": {},
   "source": [
    "Столбцы в датасете `companies_df` названы некорректно. Стоит привести их к стилю snake case, для более удобной дальнейшей работы с ними.\n",
    "\n",
    "Данные также содержат дубликат столбца `company_id`, который следует переименовать до переименования столбцов, так как после приведения к стилю snake case их названия станут одинаковыми."
   ]
  },
  {
   "cell_type": "code",
   "execution_count": null,
   "id": "2ec38281-61cb-40b2-bd66-6e8150ee44b8",
   "metadata": {},
   "outputs": [],
   "source": [
    "# Переименовываем столбец 'company  id' в 'company_id_x'\n",
    "companies_df = companies_df.rename(columns={\"company  id\": \"company_id_x\"})"
   ]
  },
  {
   "cell_type": "code",
   "execution_count": null,
   "id": "7be5a012-f387-49c8-ac26-050fbec1da5f",
   "metadata": {},
   "outputs": [],
   "source": [
    "# Приведем названия столбцов к snake case\n",
    "companies_df.columns = companies_df.columns.str.lower().str.split().str.join(\"_\")\n",
    "\n",
    "# Выведем общую информацию о датасете для проверки изменений\n",
    "companies_df.info()"
   ]
  },
  {
   "cell_type": "markdown",
   "id": "6462d4af-1214-4cc7-9353-e29e65d96240",
   "metadata": {},
   "source": [
    "Столбцы успешно переименованы."
   ]
  },
  {
   "cell_type": "markdown",
   "id": "c3e919e5-fdf1-4991-bd3e-a6c330537006",
   "metadata": {},
   "source": [
    "## Смена типов и анализ пропусков"
   ]
  },
  {
   "cell_type": "markdown",
   "id": "bca82c91-2104-4bd3-a46b-f2131f4102d5",
   "metadata": {},
   "source": [
    "Для более удобной работы с данными изменим типы данных некоторых столбцов на более актуальные. \n",
    "\n",
    "Для начала следует привести следующие столбцы к типу данных `category`:\n",
    "\n",
    "* `companies_df`: Столбцы `category_code`, `status`, `country_code`, `funding_round_type` стоит привести к типу данных `category`, так как в них хранится категориальная информация (статус, код категории и страны). Также к типу `category` стоит привести столбцы `is_first_round` и `is_last_round`, так как они также показывают статус и могут принимать значения 1 или 0.\n",
    "* `acquisition_df`: Столбец `term_code` стоит привести к типу данных `category`, так как в нем хранится  информация о варианте расчета — это категория.\n",
    "* `degrees_df`: Столбец `degree_type` стоит привести к типу данных `category`, так как в нем хранится  информация о типе образования — это категория.\n",
    "* `fund_df`: Столбец `category_code` стоит привести к типу данных `category`, так как в нем хранится  информация о коде страны — это категория."
   ]
  },
  {
   "cell_type": "code",
   "execution_count": null,
   "id": "680f2a03-e7f8-430c-9017-874d44b2a647",
   "metadata": {},
   "outputs": [],
   "source": [
    "# Приводим столбцы датасета `companies_df` к типу `category`\n",
    "for column in companies_df[\n",
    "    [\"category_code\", \"status\", \"country_code\", \"funding_round_type\"]\n",
    "]:\n",
    "    companies_df[column] = companies_df[column].astype(\"category\")\n",
    "\n",
    "# Приводим столбец `term_code` датасета `acquisition_df` к типу `category`\n",
    "acquisition_df[\"term_code\"] = acquisition_df[\"term_code\"].astype(\"category\")\n",
    "\n",
    "# Приводим столбец `degree_type` датасета `degrees_df` к типу `category`\n",
    "degrees_df[\"degree_type\"] = degrees_df[\"degree_type\"].astype(\"category\")\n",
    "\n",
    "# Приводим столбец `country_code` датасета `fund_df` к типу `category`\n",
    "fund_df[\"country_code\"] = fund_df[\"country_code\"].astype(\"category\")"
   ]
  },
  {
   "cell_type": "markdown",
   "id": "6fa2b830-9dc3-4e57-8b48-f91b50b71159",
   "metadata": {},
   "source": [
    "Далее приводим следующие столбцы с датами к типу `datetime`:\n",
    "\n",
    "* `companies_df`: Столбцы `founded_at`, `closed_at`, `funded_at` приводим к типу `datetime`, так как данные в этих столбцах представляют собой даты, но на данный момент представлены в формате `object`.\n",
    "* `acquisition_df`: Столбец `acquired_at` приводим к типу `datetime`, так как данные в этом столбце представляют собой даты, но на данный момент представлены в формате `object`.\n",
    "* `education_df`: Столбец `graduated_at` приводим к типу `datetime`, так как данные в этом столбце представляют собой даты, но на данный момент представлены в формате `object`. Оставляем только год выпуска, так как конкретная дата выпуска излишня и представлена в датасете как `01-01-1990`."
   ]
  },
  {
   "cell_type": "code",
   "execution_count": null,
   "id": "45a848ad-041a-4f11-b44e-60d812443f07",
   "metadata": {},
   "outputs": [],
   "source": [
    "# Изменим тип данных в датасете `companies_df` на `datetime`\n",
    "for column in companies_df[[\"founded_at\", \"closed_at\", \"funded_at\"]]:\n",
    "    companies_df[column] = pd.to_datetime(companies_df[column], errors=\"coerce\")\n",
    "\n",
    "# Изменим тип данных в датасете `acquisition_df` на `datetime`\n",
    "acquisition_df[\"acquired_at\"] = pd.to_datetime(\n",
    "    acquisition_df[\"acquired_at\"], errors=\"coerce\"\n",
    ")\n",
    "\n",
    "# Изменим тип данных в датасете `education_df` на `datetime`, оставив только год\n",
    "education_df[\"graduated_at\"] = pd.to_datetime(\n",
    "    education_df[\"graduated_at\"], errors=\"coerce\"\n",
    ").dt.year"
   ]
  },
  {
   "cell_type": "markdown",
   "id": "6b7e389d-273c-43b5-aefb-1aea5fc3795d",
   "metadata": {},
   "source": [
    "#### Предварительный итог:\n",
    "\n",
    "* Заменили типы данных выбранных столбцов на `category`. \n",
    "* Заменили типы данных выбранных столбцов на `datetime`. \n",
    "\n",
    "#### Оценка количества пропусков в данных"
   ]
  },
  {
   "cell_type": "markdown",
   "id": "7a82326f-ca6a-4446-9401-cfcc80b6973e",
   "metadata": {},
   "source": [
    "Проверим данные на наличие пропусков, чтобы определить полноту предоставленных данных. Найдем долю пропусков в строках датасетов."
   ]
  },
  {
   "cell_type": "markdown",
   "id": "37e2ca70-90b3-4bdf-9d40-a67c88d29bb2",
   "metadata": {},
   "source": [
    "#### Датасет `companies_df`"
   ]
  },
  {
   "cell_type": "code",
   "execution_count": null,
   "id": "f38f188f-be16-45f0-9f83-84c45eb6ca44",
   "metadata": {},
   "outputs": [],
   "source": [
    "# Подсчитываем долю строк с пропусками в датасете `companies_df`\n",
    "companies_df.isna().sum() / companies_df.shape[0]"
   ]
  },
  {
   "cell_type": "markdown",
   "id": "495eec5a-53aa-444e-8e26-49ed7014754e",
   "metadata": {},
   "source": [
    "Можно сделать следующие выводы: \n",
    "\n",
    "* В датасете `companies_df`в 0.001% строк отсутвует название и/или индентификатор компании, что делает такие строки непригодными для анализа.\n",
    "* Для трети строк не указана категория области деятельности компании.\n",
    "* Для 50% компаний не указана дата инвестирования, что сделает любые исследования динамики инвестирования неполными.\n",
    "* У 98% компании не указана дата закрытия компании из чего можно сделать вывод, что компания еще не закрыта. Пропуски в этом столбце не повлияют на исследование.\n",
    "* У 76% компаний отсутвует значительное количество важной информации, включающей в себя тип и сумму финансирования, число участников, денежную оценку и индентификатор этапа финансирования."
   ]
  },
  {
   "cell_type": "markdown",
   "id": "baac9866-72e1-43d1-ad28-3613347b99e4",
   "metadata": {},
   "source": [
    "#### Датасет `acquisition_df`"
   ]
  },
  {
   "cell_type": "code",
   "execution_count": null,
   "id": "5f0d770e-76e4-4865-8219-c4f9a1486ec3",
   "metadata": {},
   "outputs": [],
   "source": [
    "# Подсчитываем долю строк с пропусками в датасете `acquisition_df`\n",
    "acquisition_df.isna().sum() / acquisition_df.shape[0]"
   ]
  },
  {
   "cell_type": "markdown",
   "id": "7974f01d-8efb-4fe1-a14d-ee22473945fc",
   "metadata": {},
   "source": [
    "Пропуски в датасете `acquisition_df` содержатся только в столбцах `term_code` (81%) и `acquired_at` (0.003%). Для большинства сделок не указаны варианты расчета, что делает невозможным исследование наиболее популярных вариантов расчета."
   ]
  },
  {
   "cell_type": "markdown",
   "id": "8ffd4b81-f18b-41be-a28f-4a203605dff6",
   "metadata": {},
   "source": [
    "#### Датасет `education_df`"
   ]
  },
  {
   "cell_type": "code",
   "execution_count": null,
   "id": "67933af3-5f68-4091-982b-8a728fc2096a",
   "metadata": {},
   "outputs": [],
   "source": [
    "# Подсчитываем долю строк с пропусками в датасете `education_df`\n",
    "education_df.isna().sum() / education_df.shape[0]"
   ]
  },
  {
   "cell_type": "markdown",
   "id": "b2dc60b9-0863-442e-b1c5-778659f96233",
   "metadata": {},
   "source": [
    "В датасете `education_df` пропуски содержатся в столбцах `instituition` и `graduated_at`. В то время как в столбце `instituition` значение пропусков незначительно (0.005%), в столбце `graduated_at` с датой завершения получения образования пропуски составляют почти половину от всех строк (47%), что может говорить о том, что сотрудники не предоставили эту информацию. В комбинации с отсутсвием также названия учебного заведения можно сделать вывод о том, что у сотрудника нет дополнительного образования.\n",
    "\n",
    "Вполне вероятно, что некоторыые сотрудники еще не закончили высшее образование и поэтому не указали дату выпуска, но утверждать то, что все 48% сотрудников не закончили высшее образование, некорректно. "
   ]
  },
  {
   "cell_type": "markdown",
   "id": "e38fa045-cab2-44d1-ad0e-50c314a88133",
   "metadata": {},
   "source": [
    "#### Датасет `people_df`"
   ]
  },
  {
   "cell_type": "code",
   "execution_count": null,
   "id": "0367a589-2de0-46c4-9a53-c44a1cfba854",
   "metadata": {},
   "outputs": [],
   "source": [
    "# Подсчитываем долю строк с пропусками в датасете `people_df`\n",
    "people_df.isna().sum() / people_df.shape[0]"
   ]
  },
  {
   "cell_type": "markdown",
   "id": "758e9e91-1377-4b9b-8217-4d80d21e0fe1",
   "metadata": {},
   "source": [
    "Незначительное количество пропусков содержат столбцы `first_name` и `last_name`. Значительное количество пропусков обнаружено в столбцах `company_id` (85%) и `network_username` (83%), но на качество исследования их влияние минимально. Возможно, данная информация не была заполнена при составлении датасета."
   ]
  },
  {
   "cell_type": "markdown",
   "id": "f5619b70-653a-4d16-bd4d-de267d8b7b54",
   "metadata": {},
   "source": [
    "#### Датасет `degrees_df`"
   ]
  },
  {
   "cell_type": "code",
   "execution_count": null,
   "id": "b4f66e6a-cb3f-4fd1-b983-8187c77802b5",
   "metadata": {},
   "outputs": [],
   "source": [
    "# Подсчитываем долю строк с пропусками в датасете `degrees_df`\n",
    "degrees_df.isna().sum() / degrees_df.shape[0]"
   ]
  },
  {
   "cell_type": "markdown",
   "id": "3b8da473-4e77-42d4-9b95-59b0b2c5672f",
   "metadata": {},
   "source": [
    "В 10% строках столбца `degree_type` содержатся пропуски. Пропуски также были обнаружены в столбце `subject` (26%), что может говоирть о том, что предоставленная информация об образовании сотрудников неполная и исследование, напрямую связанное с квалификацией сотрудников может быть неполным."
   ]
  },
  {
   "cell_type": "markdown",
   "id": "773595c9-e21e-463d-bfdf-d62c5c71e309",
   "metadata": {},
   "source": [
    "Оценка полноты данных:\n",
    "\n",
    "* Значительное количество данных в датасете отсутствует. К ним относятся информация о финансировании компаний, раундах финансирования, а также о квалификации и образовании сотрудников.\n",
    "* Для некоторых конкретных исследований данных может быть недостаточно."
   ]
  },
  {
   "cell_type": "markdown",
   "id": "1f55fc85-bf32-4e8f-be18-878eaca807b8",
   "metadata": {},
   "source": [
    "## Предобработка данных, предварительное исследование"
   ]
  },
  {
   "cell_type": "markdown",
   "id": "0e992a55-3b62-4d82-8866-a2a624b41656",
   "metadata": {},
   "source": [
    "### Раунды финансирования по годам"
   ]
  },
  {
   "cell_type": "markdown",
   "id": "ab01d67e-93da-4655-a8cb-dc6977725f21",
   "metadata": {},
   "source": [
    "Проведем исследование раундов финансирования по годам. Составим сводную таблицу в которой изучим типичный размер средств, выделяяемый в рамках одного раунда, а также общее количество раундов финансирования.\n",
    "\n",
    "В исследование вошли только те года, в течение которых было совершено более 50 раундов фиинансирования."
   ]
  },
  {
   "cell_type": "code",
   "execution_count": null,
   "id": "13c78d39-fb39-461e-a630-13a94166f3df",
   "metadata": {},
   "outputs": [],
   "source": [
    "# Преобразуем дату в год\n",
    "companies_df[\"funded_at\"] = pd.to_datetime(companies_df[\"funded_at\"]).dt.year\n",
    "\n",
    "# Создаем сводную таблицу с двумя метриками: медиана и количество\n",
    "pivot = pd.pivot_table(\n",
    "    companies_df, index=\"funded_at\", values=\"raised_amount\", aggfunc=[\"median\", \"count\"]\n",
    ")\n",
    "\n",
    "# Переименуем колонки для удобства\n",
    "pivot.columns = [\"Типичный размер средств\", \"Количество раундов\"]\n",
    "pivot = pivot.reset_index()\n",
    "\n",
    "# Оставляем только годы с более чем 50 раундами\n",
    "final_pivot = pivot[pivot[\"Количество раундов\"] > 50]\n",
    "\n",
    "final_pivot"
   ]
  },
  {
   "cell_type": "code",
   "execution_count": null,
   "id": "00d648df-b963-40ad-8573-025d7635f867",
   "metadata": {},
   "outputs": [],
   "source": [
    "#\n",
    "final_pivot.plot(\n",
    "    kind=\"line\",\n",
    "    legend=False,\n",
    "    title=\"Динамика типичного размера средств, которые стартапы получали в рамках одного раунда финансирования\",\n",
    "    xlabel=\"Год\",\n",
    "    ylabel=\"Типичный размер средств (млн.)\",\n",
    "    x=\"funded_at\",\n",
    "    y=[\"Типичный размер средств\"],\n",
    "    figsize=(10, 6),\n",
    "    marker=\"o\",\n",
    ")"
   ]
  },
  {
   "cell_type": "markdown",
   "id": "3b1915da-26a1-4a80-bcb9-ea341b694c12",
   "metadata": {},
   "source": [
    "На основе сводбной таблицы и графика можно сделать следующие выводы:\n",
    "\n",
    "* В 2005 году типичный размер собранных в рамках одного раунда средств был максимальным и составлял 5,5 млн., после чего наблюдается спад.\n",
    "* В 2013 году впервые за 7 лет упадка типичный размер собранных в рамках одного раунда средств вырос с 1 млн. до 1,2 млн. при том, что количество раундов также увеличилось с 9970 до 11072."
   ]
  },
  {
   "cell_type": "markdown",
   "id": "8461763f-2872-4de7-b876-98055ee4de9d",
   "metadata": {},
   "source": [
    "### Люди и их образование"
   ]
  },
  {
   "cell_type": "markdown",
   "id": "19e130b8-c49a-4165-aa45-05b3073c2a38",
   "metadata": {},
   "source": [
    "Проведем исследование зависимости полноты сведений о сотрудниках (об их образовании) от размера компании. Для этого подробнее исследуем датасеты `people_df` и `education_df`. К данным датасетам можно также присоединить датасет `degrees_df`, так как он тоже содержит информацию о образовании сотрудников, но более детальную, и содержит в себе индентификатор сотрудника, по которому датасеты можно объединить.\n",
    "\n",
    "Для более удобной работы соединим датасеты по индектификатору сотрудника. Нам важно оставить всю информацию о сотрудниках, представленную в датасетах, поэтому объединим их типом `left`."
   ]
  },
  {
   "cell_type": "code",
   "execution_count": null,
   "id": "40beaf35-6ff1-4f81-9586-6b73148f72ec",
   "metadata": {},
   "outputs": [],
   "source": [
    "# Объединим датасеты медотом merge\n",
    "employees_df = people_df.merge(\n",
    "    education_df, left_on=\"id\", right_on=\"person_id\", how=\"left\"\n",
    ")\n",
    "\n",
    "# Выведем первые 5 строк полученного датасета\n",
    "employees_df.head()"
   ]
  },
  {
   "cell_type": "markdown",
   "id": "393511eb-60ad-46e3-8798-7d39b0798f7c",
   "metadata": {},
   "source": [
    "Тип данных столбца `object_id` датасета `degrees_df` не совпадает с типом идентификатора сотрудников из датасетов, с которыми он должен быть объединен, поэтому стоит преобразовать тип данных столбца `object_id` из `object` в `int64` и объединить датасеты."
   ]
  },
  {
   "cell_type": "code",
   "execution_count": null,
   "id": "2c054433-fd37-430d-89b5-8a9ee406a3b4",
   "metadata": {},
   "outputs": [],
   "source": [
    "# Приведем столбец `object_id` к типу данных int64\n",
    "degrees_df[\"object_id\"] = pd.to_numeric(degrees_df[\"object_id\"], errors=\"coerce\")\n",
    "\n",
    "# Присоединим датасет `degrees_df`\n",
    "employees_df = employees_df.merge(\n",
    "    degrees_df, left_on=\"id_x\", right_on=\"object_id\", how=\"left\"\n",
    ")"
   ]
  },
  {
   "cell_type": "markdown",
   "id": "8aae242d-c011-49a7-8d20-5bdd41f43b1a",
   "metadata": {},
   "source": [
    "Проанализировав первые строки датасета, обнаружили дубликаты по индектификатору сотрудника, а также по имени, фамилии и идентификатору компании. Найдем число подобных дубликатов и удалим их во избежание искажения исследования."
   ]
  },
  {
   "cell_type": "code",
   "execution_count": null,
   "id": "09f54b80-afea-4a8c-aa44-16b06d10fe78",
   "metadata": {},
   "outputs": [],
   "source": [
    "# Сохраняем количество строк исходного датасета\n",
    "previous_employees = employees_df.shape[0]\n",
    "\n",
    "# Удаляем дубликаты\n",
    "employees_df = employees_df.drop_duplicates(\n",
    "    subset=[\"id_x\", \"first_name\", \"last_name\", \"company_id\"]\n",
    ")\n",
    "\n",
    "print(\n",
    "    f\"Удаленных дубликатов: {previous_employees - employees_df.shape[0]}, \"\n",
    "    f\"строк в датасете осталось: {employees_df.shape[0]}\"\n",
    ")"
   ]
  },
  {
   "cell_type": "markdown",
   "id": "61989b7a-36e5-43c9-8127-e167b184e827",
   "metadata": {},
   "source": [
    "Разделим компании на группы, основываясь на общем количестве сотрудников компании. Для корректного разделения на группы создадим гистограмму и сформировать критерии категоризации."
   ]
  },
  {
   "cell_type": "code",
   "execution_count": null,
   "id": "68884803-a7ae-4d74-9c29-4fb35d14cde0",
   "metadata": {},
   "outputs": [],
   "source": [
    "# Посчитаем количество сотрудников в каждой компании\n",
    "company_counts = (\n",
    "    employees_df.groupby(\"company_id\").size().reset_index(name=\"employee_count\")\n",
    ")\n",
    "\n",
    "# Строим гистограмму распределения значений количества сотрудников\n",
    "sns.histplot(company_counts[\"employee_count\"], bins=20)\n",
    "plt.xlabel(\"Количество сотрудников\")\n",
    "plt.ylabel(\"Количество компаний\")\n",
    "plt.title(\"Распределение количества сотрудников по компаниям\")\n",
    "plt.show()"
   ]
  },
  {
   "cell_type": "markdown",
   "id": "b8366188-d894-45ae-a51d-5522267f5b3d",
   "metadata": {},
   "source": [
    "Из данной гистограммы можно сделать вывод о том, что в подавляющем количестве компаний работают менее 50 человек, что довольно логично, так как финансовая компания, чьи данные используются в этом исследовании, предоставляет льготные займы именно стартапам, стоит учесть этот факт при составлении категорий. Составим новую гистограмму и разделим стартапы на следующие группы:\n",
    "\n",
    "* 1 сотрудник (в стартапе работает только основатель)\n",
    "* 2 сотрудника\n",
    "* 3 сотрудника\n",
    "* 4-5 сотрудников\n",
    "* 6-10 сотрудников\n",
    "* 11-25 сотрудников\n",
    "* 26+ сотрудников"
   ]
  },
  {
   "cell_type": "code",
   "execution_count": null,
   "id": "96a19a25-3afc-419a-94ac-2f327f52145e",
   "metadata": {},
   "outputs": [],
   "source": [
    "# Определяем границы для группировки\n",
    "bins = [0, 1, 2, 3, 5, 10, 25, float(\"inf\")]\n",
    "labels = [\"1\", \"2\", \"3\", \"4-5\", \"6-10\", \"11-25\", \"26+\"]\n",
    "\n",
    "# Создаем новую колонку с категориями\n",
    "company_counts[\"employee_category\"] = pd.cut(\n",
    "    company_counts[\"employee_count\"], bins=bins, labels=labels, right=True\n",
    ")\n",
    "\n",
    "# Теперь строим график по категориям\n",
    "sns.countplot(data=company_counts, x=\"employee_category\")\n",
    "plt.xlabel(\"Количество сотрудников\")\n",
    "plt.ylabel(\"Количество компаний\")\n",
    "plt.title(\"Распределение количества сотрудников по компаниям\")"
   ]
  },
  {
   "cell_type": "markdown",
   "id": "71e18c3e-0a4d-4bf7-ac80-3a292962cab6",
   "metadata": {},
   "source": [
    "Пo графику можно сделать вывод о том, что в большинстве стартапов работает только 1 сотрудник. Следует подкорректировать разделение на группы, для того, чтобв сравнение было наиболее корректным.\n",
    "\n",
    "* 1 сотрудник (в стартапе работает только основатель)\n",
    "* 2 сотрудника\n",
    "* 3-5 сотрудников\n",
    "* Более 6 сотрудников\n",
    "\n",
    "Оценим распределение количества сотрудников с этими группами."
   ]
  },
  {
   "cell_type": "code",
   "execution_count": null,
   "id": "47bc72ee-28fb-45c5-89a3-9332ee040657",
   "metadata": {},
   "outputs": [],
   "source": [
    "# Определяем границы для группировки\n",
    "bins = [0, 1, 2, 5, float(\"inf\")]\n",
    "labels = [\"1\", \"2\", \"3-5\", \"6+\"]\n",
    "\n",
    "# Создаем новую колонку с категориями\n",
    "company_counts[\"employee_category\"] = pd.cut(\n",
    "    company_counts[\"employee_count\"], bins=bins, labels=labels, right=True\n",
    ")\n",
    "\n",
    "# Теперь строим график по категориям\n",
    "sns.countplot(data=company_counts, x=\"employee_category\")\n",
    "plt.xlabel(\"Количество сотрудников\")\n",
    "plt.ylabel(\"Количество компаний\")\n",
    "plt.title(\"Распределение количества сотрудников по компаниям\")"
   ]
  },
  {
   "cell_type": "markdown",
   "id": "cbbb005d-caf0-4815-9fc6-e9dbeff5d527",
   "metadata": {},
   "source": [
    "Группа стартапов с 1 сотрудником в любом случае будет наибольшей по количеству стартапов, но стартапы в остальных группах распределены более ровно. \n",
    "На основе этих групп создадим сводную таблицу и выведем для каждой группы компаний долю сотрудников без информации об образовании."
   ]
  },
  {
   "cell_type": "code",
   "execution_count": null,
   "id": "042fed20-b25b-4838-ab10-1f8eeb27ba9e",
   "metadata": {},
   "outputs": [],
   "source": [
    "# Посчитаем количество сотрудников в каждой компании\n",
    "company_counts = (\n",
    "    employees_df.groupby(\"company_id\").size().reset_index(name=\"employee_count\")\n",
    ")\n",
    "\n",
    "\n",
    "# Разделим компании на группы по численности\n",
    "def categorize_company(size):\n",
    "    if size == 1:\n",
    "        return \"1 сотрудник\"\n",
    "    elif size <= 3:\n",
    "        return \"2-3 сотрудника\"\n",
    "    elif size <= 10:\n",
    "        return \"4-10 сотрудников\"\n",
    "    else:\n",
    "        return \"11+ сотрудников\"\n",
    "\n",
    "\n",
    "company_counts[\"size_category\"] = company_counts[\"employee_count\"].apply(\n",
    "    categorize_company\n",
    ")\n",
    "\n",
    "# Для каждого сотрудника определим, есть ли у него информация об образовании\n",
    "# id_y == NaN: нет информации об образовании\n",
    "employees_df[\"no_education_info\"] = employees_df[\"id_y\"].isna().astype(int)\n",
    "\n",
    "# Объединим данные о количестве сотрудников и их доле с исходным датафреймом\n",
    "# Посчитаем для каждого company_id:\n",
    "company_id_stats = (\n",
    "    employees_df.groupby(\"company_id\")\n",
    "    .agg(\n",
    "        total_employees=(\"id_x\", \"size\"),  # Общее число сотрудников\n",
    "        count_without_education=(\n",
    "            \"no_education_info\",\n",
    "            \"sum\",\n",
    "        ),  # Кол-во без инф. об образовании\n",
    "    )\n",
    "    .reset_index()\n",
    ")\n",
    "\n",
    "# Добавим категорию размера компании\n",
    "company_id_stats = company_id_stats.merge(\n",
    "    company_counts[[\"company_id\", \"size_category\"]], on=\"company_id\", how=\"left\"\n",
    ")\n",
    "\n",
    "# Посчитаем долю сотрудников без информации об образовании\n",
    "company_id_stats[\"share_without_education\"] = (\n",
    "    company_id_stats[\"count_without_education\"] / company_id_stats[\"total_employees\"]\n",
    ")\n",
    "\n",
    "# Создадим сводную таблицу по группам компаний\n",
    "pivot_table = pd.pivot_table(\n",
    "    company_id_stats,\n",
    "    index=\"size_category\",\n",
    "    values=[\"total_employees\", \"share_without_education\"],\n",
    "    aggfunc={\"share_without_education\": \"mean\"},\n",
    ")\n",
    "\n",
    "# Переименуем колонки для удобства\n",
    "pivot_table.columns = [\"Доля без инф. об образовании\"]\n",
    "\n",
    "print(pivot_table)"
   ]
  },
  {
   "cell_type": "code",
   "execution_count": null,
   "id": "fcc0de68-7c05-4f58-93ae-38313108aad9",
   "metadata": {},
   "outputs": [],
   "source": [
    "# Сортируем таблицу по убыванию доли\n",
    "pivot_table_sorted = pivot_table.reset_index().sort_values(\n",
    "    by=\"Доля без инф. об образовании\", ascending=False\n",
    ")\n",
    "\n",
    "# Строим график\n",
    "plt.figure(figsize=(10, 6))\n",
    "sns.barplot(\n",
    "    data=pivot_table_sorted, x=\"size_category\", y=\"Доля без инф. об образовании\"\n",
    ")\n",
    "\n",
    "plt.xlabel(\"Категория размера компании\")\n",
    "plt.ylabel(\"Средняя доля без информации об образовании\")\n",
    "plt.title(\"Средняя доля компаний без информации об образовании по категориям размера\")\n",
    "plt.xticks(rotation=45)\n",
    "plt.tight_layout()\n",
    "plt.show()"
   ]
  },
  {
   "cell_type": "markdown",
   "id": "d6840791-e827-483e-aa24-4ab3b40b0d32",
   "metadata": {},
   "source": [
    "На основе данной сводной таблицы и графика можно сделать следующий вывод:\n",
    "\n",
    "* Наибольшая доля сотрудников без информации об образовании в стартапах с числом сотрудников от 4 до 10 — 51%.\n",
    "* В стартапах с одним сотрудником доля сотрудников с неполной информацией составляет 46%, что является близким значением к доле у стартапов, где работают 2-3 человека (47%).\n",
    "* В относительно крупных стартапах — более 11 сотрудников — доля сотрудников без информации от образовании наименьшая — 43%.\n",
    "\n",
    "Таким образом можно сделать вывод, что полнота сведений о сотрудниках зависит от размера компании: количество сотрудников с неполной информацией растет по мере увеличения количества сотрудников, однако после некоторой отметки (в данном исследовании 11+ сотрудников) значительно падает. Это говорит о том, что с увеличением количества сотрудников уже крупного стартапа полнота информации о сотрудниках растет. "
   ]
  },
  {
   "cell_type": "markdown",
   "id": "a74aa647-4946-41e8-b26d-903b2edcde0c",
   "metadata": {},
   "source": [
    "### Объединять или не объединять — вот в чём вопрос"
   ]
  },
  {
   "cell_type": "markdown",
   "id": "33c33e48-5956-4e38-9ff2-c51cc6031a25",
   "metadata": {},
   "source": [
    "Проведем более подробное исследование столбца с названием `network_username`, который встречается в датасетах `companies_df`, `people_df` и `fund_df`.\n",
    "\n",
    "Выведем общую информацию об этих столбцах и сравним тип данных в них, а также количество пропусков."
   ]
  },
  {
   "cell_type": "code",
   "execution_count": null,
   "id": "25720116-3897-46a8-baf8-9cf82027ab5a",
   "metadata": {},
   "outputs": [],
   "source": [
    "# Выведем общую информацию о столбце `network_username` в датасете `companies_df`\n",
    "companies_df[\"network_username\"]"
   ]
  },
  {
   "cell_type": "code",
   "execution_count": null,
   "id": "78bb52e6-230b-4988-bb5e-aee21732c6bd",
   "metadata": {},
   "outputs": [],
   "source": [
    "# Выведем общую информацию о столбце `network_username` в датасете `people_df`\n",
    "people_df[\"network_username\"]"
   ]
  },
  {
   "cell_type": "code",
   "execution_count": null,
   "id": "35939c12-27ad-4472-aae1-38cb62c9d566",
   "metadata": {},
   "outputs": [],
   "source": [
    "# Выведем общую информацию о столбце `network_username` в датасете `fund_df`\n",
    "fund_df[\"network_username\"]"
   ]
  },
  {
   "cell_type": "markdown",
   "id": "3bb7fcdd-7cf9-4c48-8850-b81bd3df2954",
   "metadata": {},
   "source": [
    "В всех столбцах хранятся данные типа `object`. Найдем количество уникальных значений в каждом из столбцов:"
   ]
  },
  {
   "cell_type": "code",
   "execution_count": null,
   "id": "b7c3a34b-7910-4430-b0b8-1000a4f9d415",
   "metadata": {},
   "outputs": [],
   "source": [
    "# Посчитаем количество уникальных ников в социальных сетях в датасете `companies_df`\n",
    "nickname_counts = companies_df[\"network_username\"].value_counts()\n",
    "\n",
    "print(\n",
    "    f\"Количество уникальных ников в социальных сетях в датасете `companies_df`: {len(nickname_counts)}\"\n",
    ")"
   ]
  },
  {
   "cell_type": "code",
   "execution_count": null,
   "id": "2aa2f189-2a1f-4dfe-af8b-6b8055b7f8e4",
   "metadata": {},
   "outputs": [],
   "source": [
    "# Посчитаем количество уникальных ников в социальных сетях в датасете `people_df`\n",
    "nickname_counts = people_df[\"network_username\"].value_counts()\n",
    "\n",
    "print(\n",
    "    f\"Количество уникальных ников в социальных сетях в датасете `people_df`: {len(nickname_counts)}\"\n",
    ")"
   ]
  },
  {
   "cell_type": "code",
   "execution_count": null,
   "id": "5b128316-8013-467f-adf3-8c409fbb53d0",
   "metadata": {},
   "outputs": [],
   "source": [
    "# Посчитаем количество уникальных ников в социальных сетях в датасете `fund_df`\n",
    "nickname_counts = fund_df[\"network_username\"].value_counts()\n",
    "\n",
    "print(\n",
    "    f\"Количество уникальных ников в социальных сетях в датасете `fund_df`: {len(nickname_counts)}\"\n",
    ")"
   ]
  },
  {
   "cell_type": "markdown",
   "id": "4b3609ee-054d-4893-b4c2-8e6e38739184",
   "metadata": {},
   "source": [
    "Количество уникальных ников сильно различается — 38 тыс., 79 тыс. и 2 тыс. Для того, чтобы найти число общих ников, которые встречаются в обоих датасетах, используем метод `intersection()`."
   ]
  },
  {
   "cell_type": "code",
   "execution_count": null,
   "id": "5adac8ea-8147-4970-ac62-c606bc6a196a",
   "metadata": {},
   "outputs": [],
   "source": [
    "# Преобразуем столбцы датасетов в множества\n",
    "set_df_companies = set(companies_df[\"network_username\"])\n",
    "set_df_people = set(people_df[\"network_username\"])\n",
    "set_df_fund = set(fund_df[\"network_username\"])\n",
    "\n",
    "# Используем .intersection() для поиска общих элементов\n",
    "common_usernames = set_df_companies.intersection(set_df_people).intersection(\n",
    "    set_df_fund\n",
    ")\n",
    "\n",
    "# Подсчитаем число общих ников\n",
    "common_usernames_count = len(common_usernames)\n",
    "\n",
    "print(f\"Количество общих ников: {common_usernames_count}\")\n",
    "print(\n",
    "    f'Доля общих ников в датасете \"companies_df\" {common_usernames_count / (companies_df['network_username'].nunique())}'\n",
    ")\n",
    "print(\n",
    "    f'Доля общих ников в датасете \"people_df\" {common_usernames_count / (people_df['network_username'].nunique())}'\n",
    ")\n",
    "print(\n",
    "    f'Доля общих ников в датасете \"fund_df\" {common_usernames_count / (fund_df['network_username'].nunique()) }'\n",
    ")"
   ]
  },
  {
   "cell_type": "markdown",
   "id": "e9034ea2-a857-43bb-9b7e-e45ee2c1121c",
   "metadata": {},
   "source": [
    "На основе этих данных построим диаграмму Венна."
   ]
  },
  {
   "cell_type": "code",
   "execution_count": null,
   "id": "34c864ea-c3cc-4a0f-ba15-768b4e4c032d",
   "metadata": {},
   "outputs": [],
   "source": [
    "from matplotlib_venn import venn2, venn3\n",
    "\n",
    "# Создаем множества\n",
    "set_df_companies = set(companies_df[\"network_username\"])\n",
    "set_df_people = set(people_df[\"network_username\"])\n",
    "set_df_fund = set(fund_df[\"network_username\"])\n",
    "\n",
    "# Строим диаграмму Венна\n",
    "plt.figure(figsize=(8, 8))\n",
    "venn3(\n",
    "    [set_df_companies, set_df_people, set_df_fund],\n",
    "    (\"companies_df\", \"people_df\", \"fund_df\"),\n",
    ")\n",
    "\n",
    "plt.title(\"Пересечения между тремя датасетами\")\n",
    "plt.show()"
   ]
  },
  {
   "cell_type": "markdown",
   "id": "5fe399f1-52d0-40f0-ad91-7c72c435d885",
   "metadata": {},
   "source": [
    "#### Вывод "
   ]
  },
  {
   "cell_type": "markdown",
   "id": "d59fcfee-02f2-4089-89a1-7af5795d27ce",
   "metadata": {},
   "source": [
    "На основе данных полученных в ходе исследования можно сделать следующий вывод:\n",
    "\n",
    "Столбцы с названием `network_username`, который встречается в датасетах `companies_df`, `people_df` и `fund_df`, нельзя использовать для объединения этих датасетов, так как количество общих значений равно 8, что составляет менее 1% от всех значений столбца датасетов. Данного количества недостаточно для качественного объединения датасетов."
   ]
  },
  {
   "cell_type": "markdown",
   "id": "5f2b5ae9-2320-4fff-bead-87c3c92934de",
   "metadata": {},
   "source": [
    "### Проблемный датасет и причина возникновения пропусков"
   ]
  },
  {
   "cell_type": "markdown",
   "id": "6cdf5ae4-dc9f-4616-8bea-e72785901c5e",
   "metadata": {},
   "source": [
    "Подготовим новый датасет `df_company` на основе данных датасета `companies_df`, в котором, максимальным образом сохраняя данные, сохранив их связность и исключив возможные возникающие при этом ошибки, подготовим данные о компаниях так, чтобы удобно было отобрать компании по параметрам и рассчитать показатели из расчёта на одну компанию без промежуточных агрегаций.\n",
    "\n",
    "Выберем столбцы, которые содержат информацию о компаниях и сохраним их в датасет `df_company`, а данные о раундах финансирования сохраним в датасет `df_rounds`."
   ]
  },
  {
   "cell_type": "code",
   "execution_count": null,
   "id": "8fdf0529-eec8-4164-9f53-071b766de6ec",
   "metadata": {
    "scrolled": true
   },
   "outputs": [],
   "source": [
    "# Создаем таблицу с информацией о компаниях, выбирая нужные столбцы\n",
    "company_info = companies_df[\n",
    "    [\n",
    "        \"company_id\",\n",
    "        \"name\",\n",
    "        \"category_code\",\n",
    "        \"status\",\n",
    "        \"founded_at\",\n",
    "        \"closed_at\",\n",
    "        \"domain\",\n",
    "        \"network_username\",\n",
    "        \"country_code\",\n",
    "        \"investment_rounds\",\n",
    "        \"funding_rounds\",\n",
    "        \"funding_total\",\n",
    "        \"milestones\",\n",
    "    ]\n",
    "]\n",
    "\n",
    "# Удаляем дубли по выбранным столбцам\n",
    "company_info = company_info.drop_duplicates()\n",
    "\n",
    "# Создаем таблицу по раундам инвестирования\n",
    "df_rounds = companies_df[\n",
    "    [\n",
    "        \"company_id\",\n",
    "        \"raised_amount\",\n",
    "        \"funding_round_id\",\n",
    "        \"funded_at\",\n",
    "        \"funding_round_type\",\n",
    "        \"pre_money_valuation\",\n",
    "        \"participants\",\n",
    "        \"is_first_round\",\n",
    "        \"is_last_round\",\n",
    "    ]\n",
    "]\n",
    "\n",
    "# Удаляем пропуски в столбце funding_round_type\n",
    "df_rounds = df_rounds.dropna(subset=[\"funding_round_type\"])\n",
    "\n",
    "# Просмотр общей информации о датасете с информацией о компаниях\n",
    "company_info.info()"
   ]
  },
  {
   "cell_type": "markdown",
   "id": "5bffeeb7-a8f3-4ab7-a9dd-11ede6a03bce",
   "metadata": {},
   "source": [
    "Полученный датасет `company_info` содержит 196554 строк и 13 столбцов. Все столбцы названы корректно и меют корректный тип данных. Для более удобной последующей работы с датасетом проведем следующие операции:\n",
    "\n",
    "* Удалим строки, в которых в столбце `company_id` и `name` содержатся пропуски, так как невозможно идентифицировать эти компании.\n",
    "* Найдем и обработаем строки, в которых дублируется идентификатор компании `company_id`.\n",
    "* Оптимизируем тип данных в столбцах с числовым значением `investment_rounds`, `funding_rounds`, `milestones`."
   ]
  },
  {
   "cell_type": "code",
   "execution_count": null,
   "id": "f8d20a9c-0daa-420b-8192-8c3bfc365c85",
   "metadata": {},
   "outputs": [],
   "source": [
    "# Удаляем строки, в которых в столбцах `company_id`, 'name' содержатся пропуски\n",
    "company_info = company_info.dropna(subset=[\"company_id\", \"name\"])"
   ]
  },
  {
   "cell_type": "code",
   "execution_count": null,
   "id": "c88df650-0ba8-4794-bf9a-dc9b0b9e9a1a",
   "metadata": {},
   "outputs": [],
   "source": [
    "# Удаляем строки, в которых дублируется идентификатор компании `company_id`.\n",
    "company_info = company_info.drop_duplicates(subset=\"company_id\")"
   ]
  },
  {
   "cell_type": "code",
   "execution_count": null,
   "id": "407fb34d-62ba-4163-b6f1-17e226628a47",
   "metadata": {},
   "outputs": [],
   "source": [
    "# Оптимизируем тип данных в столбцах с числовым значением\n",
    "for column in [\"investment_rounds\", \"funding_rounds\", \"milestones\"]:\n",
    "    company_info[column] = pd.to_numeric(\n",
    "        company_info[column], downcast=\"integer\", errors=\"coerce\"\n",
    "    )"
   ]
  },
  {
   "cell_type": "code",
   "execution_count": null,
   "id": "e38a0683-0a83-4106-8f12-f27a1c82470c",
   "metadata": {},
   "outputs": [],
   "source": [
    "# Выведем общую информацию о датасете `company_info`\n",
    "company_info.info()"
   ]
  },
  {
   "cell_type": "markdown",
   "id": "ad497c96-b0dd-477c-8674-783a85c86e83",
   "metadata": {},
   "source": [
    "#### Вывод"
   ]
  },
  {
   "cell_type": "markdown",
   "id": "62de2595-a8cd-4511-8f37-14e9aa2c5705",
   "metadata": {},
   "source": [
    "В результате проведённой работы был сформирован новый датасет `companies_info` на основе исходных данных из `df_companies`. В результате получен датасет `company_info`, с корректно установленными типами данных и названиями столбцов, что обеспечивает удобство дальнейшего анализа и работы с информацией о компаниях."
   ]
  },
  {
   "cell_type": "markdown",
   "id": "f34141a9-2930-44f2-bd83-9c828de6b7ef",
   "metadata": {},
   "source": [
    "##  Исследовательский анализ объединённых таблиц\n",
    "\n",
    "###  Объединение данных"
   ]
  },
  {
   "cell_type": "markdown",
   "id": "0bd32998-24e4-42c9-aaa5-c588c7f8b90a",
   "metadata": {},
   "source": [
    "Объединим данные для ответа на вопросы заказчика о компаниях, которые меняли или готовы менять владельцев. Из датасета `company_info` выберем только те компании, у которых указаны значения `funding_rounds` или `investment_rounds` больше нуля, или те, у которых в колонке `status` указано `acquired`."
   ]
  },
  {
   "cell_type": "code",
   "execution_count": null,
   "id": "e18a9975-9cf6-4fdf-9850-5a39c2b3e8d2",
   "metadata": {},
   "outputs": [],
   "source": [
    "# Установим фильтры для строк датасета `company_info`\n",
    "companies_acquired = company_info[\n",
    "    (company_info[\"funding_rounds\"] > 0)\n",
    "    | (company_info[\"investment_rounds\"] > 0)\n",
    "    | (company_info[\"status\"] == \"acquired\")\n",
    "]\n",
    "\n",
    "# Выведем общую информацию о датасете `companies_acquired`\n",
    "companies_acquired.info()"
   ]
  },
  {
   "cell_type": "markdown",
   "id": "54142098-e3aa-434f-9ed7-df826d31a070",
   "metadata": {},
   "source": [
    "Применили нужные для дальнейшего исследования данных фильтры к датасету `company_info` и сохранили данные в датасет `companies_acquired`. После этого шага можно приступать к более подробному исследованию данный компаний."
   ]
  },
  {
   "cell_type": "markdown",
   "id": "0c22ceba-1883-4379-8c33-5fbb5b9f8142",
   "metadata": {},
   "source": [
    "### Анализ выбросов"
   ]
  },
  {
   "cell_type": "markdown",
   "id": "eb90379d-b57b-421b-8134-2bbeef0794de",
   "metadata": {},
   "source": [
    "Проанализируем аномальные значения общего финансирования для одной компании. Для этого создадим боксплот, который графически покажет количество выбросов."
   ]
  },
  {
   "cell_type": "code",
   "execution_count": null,
   "id": "9e323101-b4e3-4f1a-be11-e1ece2621ede",
   "metadata": {},
   "outputs": [],
   "source": [
    "# Создадим боксплот по столбцу funding_total\"\n",
    "boxplot = company_info.boxplot(column=\"funding_total\", vert=False, figsize=(12, 3))\n",
    "boxplot.set_title(\n",
    "    \"Типичный размер общего финансирования для одной компании (млн. долларов)\"\n",
    ")\n",
    "plt.show()"
   ]
  },
  {
   "cell_type": "markdown",
   "id": "a04e0d36-8ce1-4548-b867-afeee5fcbd2a",
   "metadata": {},
   "source": [
    "По данному боксплоту можно сделать следующий вывод: максимальные значения финансирования компании могут быть настолько аномально высоки, что исказят графическое отображение значений столбца `funding_total`. Выведем описание столбца `funding_total` методом `describe()` для оценки разности между средним значением и максимальным."
   ]
  },
  {
   "cell_type": "code",
   "execution_count": null,
   "id": "313e07f2-cebb-4da6-b79d-85d3c3608cec",
   "metadata": {},
   "outputs": [],
   "source": [
    "# Выведем описание столбца `funding_total`\n",
    "company_info[\"funding_total\"].describe()"
   ]
  },
  {
   "cell_type": "markdown",
   "id": "6f745525-ef43-42db-9d45-4093d5e4f793",
   "metadata": {},
   "source": [
    "Максимальное значение почти в 3 раза больше среднего значения, а высокое значение стандартного отклонения указывает на относительно высокий разброс значений. Минимальное значение равно 0, что также искажает график, так как в столбце `funding_total` хранится информация о компаниях, с которыми было проведен хотя бы один раунд инвестиций или финансирования.\n",
    "\n",
    "Составим новый боксплот, откинув значения выше 0.99-перцентиль и равные нулю для того, чтобы избежать искажения графика. "
   ]
  },
  {
   "cell_type": "code",
   "execution_count": null,
   "id": "47eb40a7-40f2-41d7-818f-2dab76b90347",
   "metadata": {},
   "outputs": [],
   "source": [
    "# Найдём 0.99-перцентиль\n",
    "perc = company_info[\"funding_total\"].quantile(0.99)\n",
    "\n",
    "# Отфильтруем значения, оставив только те, что ниже или равны 0.99-перцентиль, а также равные 0\n",
    "filtered_funding_total = company_info[\n",
    "    (company_info[\"funding_total\"] <= perc) & (company_info[\"funding_total\"] > 0)\n",
    "][\"funding_total\"]\n",
    "\n",
    "# Построим боксплот по отфильтрованным данным\n",
    "boxplot = filtered_funding_total.plot.box(vert=False, figsize=(12, 3))\n",
    "boxplot.set_title(\n",
    "    \"Типичный размер общего финансирования для одной компании (млн. долларов)\"\n",
    ")\n",
    "plt.show()"
   ]
  },
  {
   "cell_type": "markdown",
   "id": "4da2dae6-7ba8-4628-a2d7-c3fcae5cc1ba",
   "metadata": {},
   "source": [
    "По графику можно сделать вывод о том, что количество выбросов все еще довольно значительно, но на данный момент можно заключить, что в среднем значения представлены до 1 млн. Выведем новое описание столбца `funding_total`, исключив нулевые значения."
   ]
  },
  {
   "cell_type": "markdown",
   "id": "99e16cd1-bddc-481d-abfa-4d4fc2ce053b",
   "metadata": {},
   "source": [
    "#### Вывод\n",
    "\n",
    "Отбросив нулевые значения и 0.99-перцентиль, заметили следующее о значениях общего финансирования для одной компании:\n",
    "\n",
    "* В среднем представлены значения до 1 млн.\n",
    "* В данных присутсвует значительно количество выбросов, что искажает графические изображения данных и такие показатели, как среднее значение и медиана."
   ]
  },
  {
   "cell_type": "markdown",
   "id": "d91448c1-f40a-4ddb-b83f-c78d9724f606",
   "metadata": {},
   "source": [
    "### Компании, проданные за 0"
   ]
  },
  {
   "cell_type": "markdown",
   "id": "4b6f53bb-9f68-4db3-be30-ec02fe62a80f",
   "metadata": {},
   "source": [
    "Исследуем компании, которые были проданы за ноль или за один доллар, при этом у них был ненулевой общий объём финансирования. Для начала найдем сколько уникальных `company_id` из `company_info` удовлетворяют этим условиям. Для этого присоединим к `company_info` датасет `acquisition_df` с данными о сумме покупки компаний. Выберем способ присоединения 'left', так как нам нужно добавить соответствующую информацию, оставив при этом все компании в датасете `company_info`."
   ]
  },
  {
   "cell_type": "code",
   "execution_count": null,
   "id": "ee948f31-85bf-4583-a203-1db54cab9899",
   "metadata": {},
   "outputs": [],
   "source": [
    "# Объединяем `company_info` с `acquisition_df` по ключу 'company_id' и 'acquired_company_id'\n",
    "bought_company_info = company_info.merge(\n",
    "    acquisition_df,\n",
    "    left_on=\"company_id\",  # ключ из company_info\n",
    "    right_on=\"acquired_company_id\",  # ключ из acquisition_df\n",
    "    how=\"left\",  # левое соединение\n",
    ")\n",
    "\n",
    "# Отбираем только те записи, у которых значение 'price_amount' равно 0 или 1\n",
    "# Это фильтр для компаний с ценой приобретения 0 или 1\n",
    "zero_company_info = bought_company_info[\n",
    "    (\n",
    "        (bought_company_info[\"price_amount\"] == 0)\n",
    "        | (bought_company_info[\"price_amount\"] == 1)\n",
    "    )\n",
    "    & (bought_company_info[\"funding_total\"] > 0)\n",
    "]\n",
    "\n",
    "# Создаем сводную таблицу\n",
    "pivot_table = pd.pivot_table(\n",
    "    zero_company_info, index=\"price_amount\", values=\"company_id\", aggfunc=\"count\"\n",
    ")\n",
    "\n",
    "# Переименовываем колонку в таблице для более понятного отображения\n",
    "pivot_table.columns = [\"Количество компаний\"]\n",
    "\n",
    "# Выводим полученную сводную таблицу\n",
    "pivot_table"
   ]
  },
  {
   "cell_type": "markdown",
   "id": "aab287db-8743-4f8f-95a4-db381be302e8",
   "metadata": {},
   "source": [
    "Получется, что всего 1618 компаний было продано на 0 долларов, за 1 доллар продаж не было произведено. Выведем описание для этих компаний. "
   ]
  },
  {
   "cell_type": "code",
   "execution_count": null,
   "id": "6e593557-92a4-4208-a518-d9c3a7243aeb",
   "metadata": {},
   "outputs": [],
   "source": [
    "zero_company_info[\"funding_total\"].describe()"
   ]
  },
  {
   "cell_type": "markdown",
   "id": "4e690ff6-5b2f-42a9-896e-69695629f19d",
   "metadata": {},
   "source": [
    "Рассчитаем `Q1` и `Q3` для столбца `funding_total` и оценим разброс данных о финансировании данных компаний."
   ]
  },
  {
   "cell_type": "code",
   "execution_count": null,
   "id": "bda0fd88-0282-452d-a6f4-b7d823332772",
   "metadata": {},
   "outputs": [],
   "source": [
    "# Вычисляем квартели\n",
    "Q1 = zero_company_info[\"funding_total\"].quantile(0.25)\n",
    "Q3 = zero_company_info[\"funding_total\"].quantile(0.75)\n",
    "\n",
    "# Вычисляем межквартильный размах\n",
    "IQR = Q3 - Q1\n",
    "\n",
    "# Расчет границ выбросов\n",
    "lower_bound = Q1 - 1.5 * IQR\n",
    "upper_bound = Q3 + 1.5 * IQR\n",
    "\n",
    "print(f\"Нижняя граница: {lower_bound}\")\n",
    "print(f\"Верхняя граница: {upper_bound}\")"
   ]
  },
  {
   "cell_type": "markdown",
   "id": "5b437729-4d76-49c4-8614-a8a65e118267",
   "metadata": {},
   "source": [
    "Нижняя граница отрицательная — отрицательный объем финансирования невозможен, значит, в реальности граница просто равна нулю. Отрицательное значение нижней границы также говорит о том, что большинство компаний имеют очень низкий объем финансирования. \n",
    "\n",
    "Значения выше верхней границы (35750000.0) считаются потенциальными выбросами — то есть очень крупные суммы финансирования, значительно превышающие межквартильный размах. Найдем, какому процентилю равно значение верхней границы."
   ]
  },
  {
   "cell_type": "code",
   "execution_count": null,
   "id": "01ce0132-6fe7-46b1-a559-246a565c776c",
   "metadata": {},
   "outputs": [],
   "source": [
    "# Сортируем данные по объему финансирования\n",
    "sorted_data = zero_company_info[\"funding_total\"].sort_values().reset_index(drop=True)\n",
    "\n",
    "n = len(sorted_data)\n",
    "\n",
    "# Находим индекс, соответствующий верхней границе\n",
    "index = int(round((upper_bound / sorted_data.iloc[-1]) * (n - 1)))\n",
    "\n",
    "# Ограничиваем индекс в диапазоне\n",
    "index = min(max(index, 0), n - 1)\n",
    "\n",
    "# Получаем значение по этому индексу\n",
    "percentile_value = sorted_data.iloc[index]\n",
    "\n",
    "# Вычисляем приблизительный процентиль\n",
    "percentile = (index / (n - 1)) * 100\n",
    "\n",
    "print(f\"Приблизительный процентиль для верхней границы: {percentile:.2f}%\")"
   ]
  },
  {
   "cell_type": "markdown",
   "id": "20e88f22-5e72-467b-b547-0d2c91c14dc7",
   "metadata": {},
   "source": [
    "На основе полученного результата, что верхняя граница соответствует примерно 0.62 процентилю данных, можно сделать следующий вывод:\n",
    "\n",
    "Верхняя граница объема финансирования составляет значение, которое превышает примерно 99.38% всех наблюдаемых значений в наборе данных. Это означает, что большинство компаний имеют объем финансирования значительно ниже этой границы, а только очень немногие — находятся на самом высоком конце распределения. Такой высокий уровень выбросов указывает на наличие нескольких компаний с экстремально крупными суммами финансирования, которые существенно отличаются от основной массы данных. "
   ]
  },
  {
   "cell_type": "markdown",
   "id": "ed1ec71e-8044-4f6f-ba66-bb53950b0e6c",
   "metadata": {},
   "source": [
    "### Цены стартапов по категориям"
   ]
  },
  {
   "cell_type": "markdown",
   "id": "24ae5c23-2cc0-4a9b-90d1-c65c7a53ac0e",
   "metadata": {},
   "source": [
    "Проведем исследование категорий стартапов с типично высокими ценами покупки и наибольшим разбросом цен за стартап. \n",
    "\n",
    "Выделим среди стартапов категории с типично высокими ценами и наибольшим разбросом цен за стартап. Для этого найдем все компании, цена покупки которых входит в диапазон от медианного значения до 3-го квартиля, так как в данный диапазон войдут значения, которые выше 50% всех значений, но все еще не считаются выбросами, поэтому их стоит ограничить 75-процентилем. Составим столбчатую диаграмму."
   ]
  },
  {
   "cell_type": "code",
   "execution_count": null,
   "id": "6b00b22d-8aee-4df9-a368-ccd2e587f042",
   "metadata": {},
   "outputs": [],
   "source": [
    "# Вычисляем медиану и квартиль\n",
    "expensive_companies_median = bought_company_info[\"price_amount\"].median()\n",
    "expensive_companies_q3 = bought_company_info[\"price_amount\"].quantile(0.75)\n",
    "\n",
    "# Фильтруем компании с ценой выше или равной медиане и ниже или равной третьему квартилю\n",
    "# с подсчетом количества компаний по категориям\n",
    "expensive_companies = (\n",
    "    bought_company_info[\n",
    "        (bought_company_info[\"price_amount\"] >= expensive_companies_median)\n",
    "        & (bought_company_info[\"price_amount\"] <= expensive_companies_q3)\n",
    "    ]\n",
    "    .groupby(\"category_code\", observed=False)\n",
    "    .size()\n",
    "    .reset_index(name=\"expensive_companies\")\n",
    ")\n",
    "\n",
    "# Сортируем по убыванию количества компаний и берем только топ-15\n",
    "expensive_companies_sorted = expensive_companies.sort_values(\n",
    "    by=\"expensive_companies\", ascending=False\n",
    ").head(15)\n",
    "\n",
    "# Строим барплот\n",
    "plt.figure(figsize=(10, 6))\n",
    "plt.bar(\n",
    "    expensive_companies_sorted[\"category_code\"],\n",
    "    expensive_companies_sorted[\"expensive_companies\"],\n",
    ")\n",
    "plt.xlabel(\"Категория\")\n",
    "plt.ylabel(\"Количество компаний\")\n",
    "plt.title(\"Количество компаний по категориям\")\n",
    "plt.xticks(rotation=45)\n",
    "plt.tight_layout()\n",
    "plt.show()"
   ]
  },
  {
   "cell_type": "markdown",
   "id": "826b0eeb-e0a1-4308-a02b-ae45ca6f2150",
   "metadata": {},
   "source": [
    "Для исследования оставили топ-15 категорий стартапов для того, чтобы избежать включения в исследование категорий с незначительным количеством стартапов. Распределили их по убыванию количества стартапов.\n",
    "\n",
    "По данному графику можно сделать следующие выводы:\n",
    "\n",
    "* Большинство типично дорогих стартапов связаны с темой информационных технологий.\n",
    "* Наибольшее количество типично дорогих стартапов (больше 1000 стартапов) относятся к категории \"software\". На втором месте (около 800 стартапов) — \"web\", на третьем — \"mobile\", что делает данные категории наиболее привлекательными для крупных инвесторов.\n",
    "* В топ-5 категорий стартапов с высокими ценами покупки также вошли категории предпринимательства и видео игр.\n",
    "* В топ-15 также вошли не-технические категории \"advertising\", \"public relations\", \"education\" и \"consulting\".\n",
    "\n",
    "Теперь можно провести исследование стартапов с наибольшим разбросом цен за стартап и сравнить с полученными ранее топ-15 категорий. Для этого найдем стандартное отклонение для каждой категории купленных стартапов и выделим из топ-15."
   ]
  },
  {
   "cell_type": "code",
   "execution_count": null,
   "id": "6aad132d-6cf3-4485-a301-aeca2c8a6fa9",
   "metadata": {},
   "outputs": [],
   "source": [
    "# Рассчитаем стандартное отклонение для каждой категории\n",
    "std_per_category = bought_company_info.groupby(\"category_code\", observed=False)[\n",
    "    \"price_amount\"\n",
    "].std()\n",
    "\n",
    "# Отсортируем по убыванию и возьмем топ-15\n",
    "top_15_categories = std_per_category.sort_values(ascending=False).head(15)\n",
    "\n",
    "# Строим барплот\n",
    "plt.figure(figsize=(12, 6))\n",
    "plt.bar(top_15_categories.index, top_15_categories.values)\n",
    "plt.xlabel(\"Категория\")\n",
    "plt.ylabel(\"Стандартное отклонение цены\")\n",
    "plt.title(\"Топ-15 категорий по разбросу цен\")\n",
    "plt.xticks(rotation=45)\n",
    "plt.tight_layout()\n",
    "plt.show()"
   ]
  },
  {
   "cell_type": "markdown",
   "id": "f94cea63-9083-4032-a524-9f31e7cfaea8",
   "metadata": {},
   "source": [
    "По данному графику можно сделать следующие выводы:\n",
    "\n",
    "* Топ-1 категория с наибольшим разбросом цен за стартап — \"enterprise\". Среднее стандартное отклонение стартапов этой категории выше 1.2, в том время как у остальных категорий топ-15 среднее стандартное отклонение ниже 0.2.\n",
    "* В топ-5 также вошли \"public_relations\", \"real_estate\", \"automative\" и \"biotech\" на примерно одинаковом значении стандартного отклонения.\n",
    "* Топ-1 категорий по цене стартапов — \"software\" — на 14 месте.\n",
    "\n",
    "#### Вывод\n",
    "\n",
    "Из данного исследования можно заключить, что стартапы с типично высокими ценами и стартапы с наибольшим разбросом цен за стартап относятся к кардинально различающимся категориям. В то время как типично дорогие старпаты в большинстве своем относятся к tech-стартапам, стартапы с наибольшим разбросом цен относятся скорее к бизнесу и предпринимательству. "
   ]
  },
  {
   "cell_type": "markdown",
   "id": "1be73300-9a75-431a-947d-41d86f5b9e5a",
   "metadata": {},
   "source": [
    "### Сколько раундов продержится стартап перед покупкой"
   ]
  },
  {
   "cell_type": "markdown",
   "id": "ab96338a-7814-4825-adcd-7bee3b6d8569",
   "metadata": {},
   "source": [
    "Исследуем значения столбца `funding_rounds`, для того чтобы выяснить типичное количество раундов для каждого возможного статуса стартапа. Найдем среднее количество раунда для каждого статуса  и построим столбчатую диаграмму."
   ]
  },
  {
   "cell_type": "code",
   "execution_count": null,
   "id": "ff3857a4-b920-48bc-948c-fae84f011219",
   "metadata": {},
   "outputs": [],
   "source": [
    "# Группируем данные по статусу компании и считаем среднее количество раундов финансирования для каждого статуса\n",
    "statuses_grouped = (\n",
    "    company_info.groupby(\"status\", observed=False)[\"funding_rounds\"]\n",
    "    .mean()\n",
    "    .reset_index()\n",
    ")\n",
    "\n",
    "# Сортируем полученные группы по убыванию среднего количества раундов финансирования\n",
    "statuses_sorted = statuses_grouped.sort_values(by=\"funding_rounds\", ascending=False)\n",
    "\n",
    "# Строим столбчатую диаграмму\n",
    "plt.figure(figsize=(6, 4))\n",
    "plt.bar(\n",
    "    statuses_sorted[\"status\"],\n",
    "    statuses_sorted[\"funding_rounds\"],\n",
    ")\n",
    "plt.xlabel(\"Статус\")\n",
    "plt.ylabel(\"Количество раундов\")\n",
    "plt.title(\"Количество раундов финансирования по статусам стартапа\")\n",
    "plt.xticks(rotation=45)\n",
    "plt.tight_layout()\n",
    "plt.show()"
   ]
  },
  {
   "cell_type": "markdown",
   "id": "6e634741-724f-4cfb-b4d8-f9db91df83f3",
   "metadata": {},
   "source": [
    "Из данной диаграммы можно сделать следующие выводы:\n",
    "\n",
    "* Наибольшее среднее количество раундов финансирования у статуса стартапа \"closed\" — немногим больше 1. Это закрытые продажи стартапов, поэтому логично предположить, что большое количество раундов финансирования связано с тем, что проект уже куплен.\n",
    "* На втором месте статус IPO (Initial Public Offering) с таким же показзателем — больше 1. Initial Public Offering — это процесс, в ходе которого компания впервые выставляет акции для публичной торговли на фондовом рынке. Это означает, что компания, ранее не имевшая публичного статуса, позволяет частным инвесторам приобрести долю в ее собственности. Вероятно, данный статус привлекает инвесторов, что приводит к высокому среднему количеству раундов финансирования.\n",
    "* Наименьшее значение — менее 0.4 раунда — принимает количество раундов у стартапов со статусом \"operating\", что неудивительно, учитывая то, что стартапы с этим статусом — это недавно появившиеся стартапы, еще находящиеся на ранних этапах развития."
   ]
  },
  {
   "cell_type": "markdown",
   "id": "8706fe79-2d86-46a1-80ba-650e5b10125a",
   "metadata": {},
   "source": [
    "##  Итоговый вывод и рекомендации"
   ]
  },
  {
   "cell_type": "markdown",
   "id": "bdc71f5e-5bbc-4804-8446-8fb9326b7502",
   "metadata": {},
   "source": [
    "В ходе исследования проанализировали данные финансовой компании, предоставляющей льготные займы стартапами. Компания планирует войти на инвестиционный рынок с прицелом на покупку, развитие и последующую перепродажу перспективных стартапов. Данные включали информацию  о покупках одними компаниями других компаний, о самих компаниях и раундах финансирования,  о сотрудниках и их образовании, а также о фондах и раундах инвестирования. Акцент исследования был на выявлении основных тенденции в сфере развития и финансирования старпатов в различных профессиональных сферах деятельности.\n",
    "\n",
    "В ходе предобработки данных в первую очередь, были выявлены и исправлены проблемы с названиями столбцов: они были приведены к стилю `snake case` для удобства дальнейшей работы. После этого все выбранные столбцы были преобразованы к типам данных `category` и `datetime`, что позволило повысить эффективность хранения данных и упростить последующий анализ. Анализ показал, что в датасете присутствует значительное количество пропусков: для третьей части данных отсутствует информация о категории деятельности компании, а у половины компаний — дата инвестирования, что ограничивает возможность исследования динамики инвестиций. Также было установлено, что у `98%` компаний отсутствует дата закрытия, что свидетельствует о том, что большинство компаний еще функционируют.\n",
    "\n",
    "В результате работы был создан новый датасет `companies_info`, где были корректно установлены типы данных и переименованы столбцы для удобства дальнейшего анализа.\n",
    "\n",
    "### Исследовательские вопросы\n",
    "\n",
    "В ходе исследования были сделаны следующие выводы:\n",
    "\n",
    "* В `2005` году средний размер финансирования в рамках одного раунда достигал максимума — около `5,5` млн., после чего наблюдался спад. В `2013` году впервые за семь лет зафиксирован рост среднего размера раунда с `1` до `1,2` млн., при этом количество раундов увеличилось с примерно `9 970` до `11 072`.\n",
    "* Анализ показал также зависимость полноты данных о сотрудниках от размера компании: у стартапов с числом сотрудников от `4` до `10` более половины сотрудников (`51%`) имеют неполную информацию об образовании; у компаний с одним сотрудником доля таких сотрудников составляет около `46%`, а у крупных — более `11` человек — лишь около `43%`. Это говорит о том, что по мере роста компании информация о сотрудниках становится более полной.\n",
    "* Было установлено, что использование столбца network_username для объединения данных недопустимо из-за очень низкой доли совпадений (менее `1%`), что делает его неподходящим ключом для объединения датасетов.\n",
    "* По результатам анализа финансирования было замечено наличие значительных выбросов: верхняя граница объема финансирования достигает примерно значения `0.62` процентиля данных (около `99.38%`), что свидетельствует о наличии нескольких компаний с экстремально крупными суммами финансирования. Это существенно влияет на средние показатели и графические отображения данных. Такой разброс говорит о том, что большинство компаний получают значительно меньшие суммы финансирования — ниже этой границы.\n",
    "* Также было отмечено различие по статусам компаний: у закрытых стартапов (статус `closed`) среднее число раундов чуть больше одного — логично предположить, что такие компании уже прошли через несколько этапов финансирования или были приобретены; у стартапов со статусом `operating` среднее число раундов менее `0.4` — это объясняется тем, что такие компании находятся на ранних стадиях развития или только начали привлекать инвестиции.\n",
    "\n",
    "Проведенная работа позволила выявить основные тенденции и особенности данных при том, что значительная часть информации отсутствует или неполна, есть экстремальные выбросы  и различия в характеристиках компаний в зависимости от их статуса и размера. Эти результаты подтверждают друг друга: например, наличие выбросов в финансировании связано с экстремальными значениями отдельных компаний; низкая полнота данных о сотрудниках зависит от размера компании; а анализ статусов показывает закономерности в количестве раундов финансирования."
   ]
  },
  {
   "cell_type": "markdown",
   "id": "887cd435-e834-46bf-a575-05469f6b8dc6",
   "metadata": {},
   "source": [
    "### Рекомендации\n",
    "\n",
    "* Разделение данных по статусам компаний: Для более точного анализа рекомендуется отдельно рассматривать активные компании, закрытые и IPO-компании, так как их характеристики существенно различаются. Это поможет лучше понять динамику развития стартапов на разных этапах.\n",
    "* Обратить внимание на стартапы в сфере информационных технологий: особенно в категории `Software` — наиболее привлекательная категория с точки зрения высоких цен и объема инвестиций. `Web` и `Mobile` — также занимают лидирующие позиции по количеству крупных сделок, что делает их перспективными для инвестиций.\n",
    "* Обратить внимание на динамику роста и активности рынка: Рост среднего размера раундов в `2013` году и увеличение количества раундов свидетельствуют о возобновлении интереса к инвестициям, что создает дополнительные возможности для поиска перспективных стартапов.\n",
    "* Учитывайте уровень полноты данных: поскольку данные о финансировании и характеристиках компаний в представленных датасетах могут быть неполными или содержать аномалии, рекомендуется проводить качественный исследовательский анализ перед принятием решений."
   ]
  }
 ],
 "metadata": {
  "ExecuteTimeLog": [
   {
    "duration": 1255,
    "start_time": "2025-06-09T20:39:25.442Z"
   },
   {
    "duration": 2014,
    "start_time": "2025-06-09T20:39:26.699Z"
   },
   {
    "duration": 28,
    "start_time": "2025-06-09T20:39:28.715Z"
   },
   {
    "duration": 104,
    "start_time": "2025-06-09T20:39:28.745Z"
   },
   {
    "duration": 10,
    "start_time": "2025-06-09T20:39:28.860Z"
   },
   {
    "duration": 11,
    "start_time": "2025-06-09T20:39:28.872Z"
   },
   {
    "duration": 8,
    "start_time": "2025-06-09T20:39:28.886Z"
   },
   {
    "duration": 20,
    "start_time": "2025-06-09T20:39:28.895Z"
   },
   {
    "duration": 9,
    "start_time": "2025-06-09T20:39:28.917Z"
   },
   {
    "duration": 41,
    "start_time": "2025-06-09T20:39:28.961Z"
   },
   {
    "duration": 7,
    "start_time": "2025-06-09T20:39:29.004Z"
   },
   {
    "duration": 49,
    "start_time": "2025-06-09T20:39:29.013Z"
   },
   {
    "duration": 43,
    "start_time": "2025-06-09T20:39:29.064Z"
   },
   {
    "duration": 123,
    "start_time": "2025-06-09T20:39:29.108Z"
   },
   {
    "duration": 165,
    "start_time": "2025-06-09T20:39:29.233Z"
   },
   {
    "duration": 160,
    "start_time": "2025-06-09T20:39:29.401Z"
   },
   {
    "duration": 44,
    "start_time": "2025-06-09T20:39:29.563Z"
   },
   {
    "duration": 7,
    "start_time": "2025-06-09T20:39:29.609Z"
   },
   {
    "duration": 39,
    "start_time": "2025-06-09T20:39:29.617Z"
   },
   {
    "duration": 49,
    "start_time": "2025-06-09T20:39:29.661Z"
   },
   {
    "duration": 18,
    "start_time": "2025-06-09T20:39:29.711Z"
   },
   {
    "duration": 84,
    "start_time": "2025-06-09T20:39:29.730Z"
   },
   {
    "duration": 191,
    "start_time": "2025-06-09T20:39:29.816Z"
   },
   {
    "duration": 116,
    "start_time": "2025-06-09T20:39:30.008Z"
   },
   {
    "duration": 175,
    "start_time": "2025-06-09T20:39:30.125Z"
   },
   {
    "duration": 233,
    "start_time": "2025-06-09T20:39:30.302Z"
   },
   {
    "duration": 81,
    "start_time": "2025-06-09T20:39:30.537Z"
   },
   {
    "duration": 47,
    "start_time": "2025-06-09T20:39:30.621Z"
   },
   {
    "duration": 26,
    "start_time": "2025-06-09T20:39:30.670Z"
   },
   {
    "duration": 79,
    "start_time": "2025-06-09T20:39:30.697Z"
   },
   {
    "duration": 0,
    "start_time": "2025-06-09T20:39:30.777Z"
   },
   {
    "duration": 0,
    "start_time": "2025-06-09T20:39:30.779Z"
   },
   {
    "duration": 0,
    "start_time": "2025-06-09T20:39:30.780Z"
   },
   {
    "duration": 0,
    "start_time": "2025-06-09T20:39:30.781Z"
   },
   {
    "duration": 0,
    "start_time": "2025-06-09T20:39:30.782Z"
   },
   {
    "duration": 91,
    "start_time": "2025-06-09T21:13:06.369Z"
   },
   {
    "duration": 57,
    "start_time": "2025-06-09T21:13:08.260Z"
   },
   {
    "duration": 464,
    "start_time": "2025-06-11T08:55:33.103Z"
   },
   {
    "duration": 7,
    "start_time": "2025-06-11T08:56:33.472Z"
   },
   {
    "duration": 1141,
    "start_time": "2025-06-11T08:56:38.725Z"
   },
   {
    "duration": 2340,
    "start_time": "2025-06-11T08:56:39.868Z"
   },
   {
    "duration": 25,
    "start_time": "2025-06-11T08:56:42.209Z"
   },
   {
    "duration": 151,
    "start_time": "2025-06-11T08:56:42.236Z"
   },
   {
    "duration": 6,
    "start_time": "2025-06-11T08:56:42.389Z"
   },
   {
    "duration": 15,
    "start_time": "2025-06-11T08:56:42.397Z"
   },
   {
    "duration": 7,
    "start_time": "2025-06-11T08:56:42.413Z"
   },
   {
    "duration": 86,
    "start_time": "2025-06-11T08:56:42.421Z"
   },
   {
    "duration": 8,
    "start_time": "2025-06-11T08:56:42.508Z"
   },
   {
    "duration": 36,
    "start_time": "2025-06-11T08:56:42.519Z"
   },
   {
    "duration": 7,
    "start_time": "2025-06-11T08:56:42.557Z"
   },
   {
    "duration": 23,
    "start_time": "2025-06-11T08:56:42.565Z"
   },
   {
    "duration": 9,
    "start_time": "2025-06-11T08:56:42.590Z"
   },
   {
    "duration": 37,
    "start_time": "2025-06-11T08:56:42.600Z"
   },
   {
    "duration": 7,
    "start_time": "2025-06-11T08:56:42.638Z"
   },
   {
    "duration": 10,
    "start_time": "2025-06-11T08:56:42.646Z"
   },
   {
    "duration": 32,
    "start_time": "2025-06-11T08:56:42.658Z"
   },
   {
    "duration": 118,
    "start_time": "2025-06-11T08:56:42.691Z"
   },
   {
    "duration": 150,
    "start_time": "2025-06-11T08:56:42.811Z"
   },
   {
    "duration": 143,
    "start_time": "2025-06-11T08:56:42.963Z"
   },
   {
    "duration": 49,
    "start_time": "2025-06-11T08:56:43.108Z"
   },
   {
    "duration": 8,
    "start_time": "2025-06-11T08:56:43.158Z"
   },
   {
    "duration": 11,
    "start_time": "2025-06-11T08:56:43.167Z"
   },
   {
    "duration": 59,
    "start_time": "2025-06-11T08:56:43.179Z"
   },
   {
    "duration": 14,
    "start_time": "2025-06-11T08:56:43.240Z"
   },
   {
    "duration": 65,
    "start_time": "2025-06-11T08:56:43.256Z"
   },
   {
    "duration": 182,
    "start_time": "2025-06-11T08:56:43.323Z"
   },
   {
    "duration": 102,
    "start_time": "2025-06-11T08:56:43.509Z"
   },
   {
    "duration": 159,
    "start_time": "2025-06-11T08:56:43.613Z"
   },
   {
    "duration": 185,
    "start_time": "2025-06-11T08:56:43.773Z"
   },
   {
    "duration": 175,
    "start_time": "2025-06-11T08:56:43.960Z"
   },
   {
    "duration": 163,
    "start_time": "2025-06-11T08:56:44.138Z"
   },
   {
    "duration": 126,
    "start_time": "2025-06-11T08:56:44.303Z"
   },
   {
    "duration": 65,
    "start_time": "2025-06-11T08:56:44.435Z"
   },
   {
    "duration": 292,
    "start_time": "2025-06-11T08:56:44.502Z"
   },
   {
    "duration": 6,
    "start_time": "2025-06-11T08:56:44.795Z"
   },
   {
    "duration": 6,
    "start_time": "2025-06-11T08:56:44.802Z"
   },
   {
    "duration": 28,
    "start_time": "2025-06-11T08:56:44.809Z"
   },
   {
    "duration": 53,
    "start_time": "2025-06-11T08:56:44.838Z"
   },
   {
    "duration": 29,
    "start_time": "2025-06-11T08:56:44.892Z"
   },
   {
    "duration": 15,
    "start_time": "2025-06-11T08:56:44.923Z"
   },
   {
    "duration": 88,
    "start_time": "2025-06-11T08:56:44.939Z"
   },
   {
    "duration": 0,
    "start_time": "2025-06-11T08:56:45.029Z"
   },
   {
    "duration": 0,
    "start_time": "2025-06-11T08:56:45.030Z"
   },
   {
    "duration": 0,
    "start_time": "2025-06-11T08:56:45.031Z"
   },
   {
    "duration": 0,
    "start_time": "2025-06-11T08:56:45.032Z"
   },
   {
    "duration": 0,
    "start_time": "2025-06-11T08:56:45.033Z"
   },
   {
    "duration": 0,
    "start_time": "2025-06-11T08:56:45.034Z"
   },
   {
    "duration": 0,
    "start_time": "2025-06-11T08:56:45.035Z"
   },
   {
    "duration": 0,
    "start_time": "2025-06-11T08:56:45.036Z"
   },
   {
    "duration": 0,
    "start_time": "2025-06-11T08:56:45.037Z"
   },
   {
    "duration": 0,
    "start_time": "2025-06-11T08:56:45.038Z"
   },
   {
    "duration": 0,
    "start_time": "2025-06-11T08:56:45.039Z"
   },
   {
    "duration": 0,
    "start_time": "2025-06-11T08:56:45.040Z"
   },
   {
    "duration": 0,
    "start_time": "2025-06-11T08:56:45.041Z"
   },
   {
    "duration": 0,
    "start_time": "2025-06-11T08:56:45.042Z"
   },
   {
    "duration": 0,
    "start_time": "2025-06-11T08:56:45.043Z"
   },
   {
    "duration": 0,
    "start_time": "2025-06-11T08:56:45.044Z"
   },
   {
    "duration": 0,
    "start_time": "2025-06-11T08:56:45.046Z"
   },
   {
    "duration": 0,
    "start_time": "2025-06-11T08:56:45.047Z"
   },
   {
    "duration": 95,
    "start_time": "2025-06-11T08:56:51.902Z"
   },
   {
    "duration": 270,
    "start_time": "2025-06-11T08:56:55.318Z"
   },
   {
    "duration": 21,
    "start_time": "2025-06-11T08:56:57.537Z"
   },
   {
    "duration": 35,
    "start_time": "2025-06-11T08:57:02.029Z"
   },
   {
    "duration": 29,
    "start_time": "2025-06-11T08:57:02.169Z"
   },
   {
    "duration": 14,
    "start_time": "2025-06-11T08:57:02.225Z"
   },
   {
    "duration": 42,
    "start_time": "2025-06-11T08:57:02.311Z"
   },
   {
    "duration": 32,
    "start_time": "2025-06-11T08:57:02.995Z"
   },
   {
    "duration": 253,
    "start_time": "2025-06-11T08:57:03.629Z"
   },
   {
    "duration": 14,
    "start_time": "2025-06-11T08:57:03.946Z"
   },
   {
    "duration": 112,
    "start_time": "2025-06-11T08:57:04.263Z"
   },
   {
    "duration": 134,
    "start_time": "2025-06-11T08:57:04.924Z"
   },
   {
    "duration": 8,
    "start_time": "2025-06-11T08:57:05.186Z"
   },
   {
    "duration": 6,
    "start_time": "2025-06-11T08:57:05.412Z"
   },
   {
    "duration": 5,
    "start_time": "2025-06-11T08:57:05.655Z"
   },
   {
    "duration": 350,
    "start_time": "2025-06-11T08:57:06.260Z"
   },
   {
    "duration": 368,
    "start_time": "2025-06-11T08:57:06.656Z"
   },
   {
    "duration": 236,
    "start_time": "2025-06-11T08:57:07.303Z"
   }
  ],
  "kernelspec": {
   "display_name": "Python 3 (ipykernel)",
   "language": "python",
   "name": "python3"
  },
  "language_info": {
   "codemirror_mode": {
    "name": "ipython",
    "version": 3
   },
   "file_extension": ".py",
   "mimetype": "text/x-python",
   "name": "python",
   "nbconvert_exporter": "python",
   "pygments_lexer": "ipython3",
   "version": "3.12.7"
  },
  "toc": {
   "base_numbering": 1,
   "nav_menu": {},
   "number_sections": true,
   "sideBar": true,
   "skip_h1_title": true,
   "title_cell": "Table of Contents",
   "title_sidebar": "Contents",
   "toc_cell": false,
   "toc_position": {
    "height": "calc(100% - 180px)",
    "left": "10px",
    "top": "150px",
    "width": "510.391px"
   },
   "toc_section_display": true,
   "toc_window_display": false
  }
 },
 "nbformat": 4,
 "nbformat_minor": 5
}
